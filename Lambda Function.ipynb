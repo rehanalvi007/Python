{
 "cells": [
  {
   "cell_type": "markdown",
   "id": "a8840229",
   "metadata": {},
   "source": [
    "1.Write a Python program to create a function that takes one argument, and that argument will be multiplied with an unknown given number."
   ]
  },
  {
   "cell_type": "code",
   "execution_count": 3,
   "id": "22f208a8",
   "metadata": {},
   "outputs": [
    {
     "data": {
      "text/plain": [
       "72"
      ]
     },
     "execution_count": 3,
     "metadata": {},
     "output_type": "execute_result"
    }
   ],
   "source": [
    "def fun_one_arg(n):\n",
    "    return lambda x:x*n\n",
    "    \n",
    "result = fun_one_arg(6)\n",
    "result(12)"
   ]
  },
  {
   "cell_type": "markdown",
   "id": "02f6a97c",
   "metadata": {},
   "source": [
    " 2.Write a Python program to sort a list of tuples using Lambda."
   ]
  },
  {
   "cell_type": "code",
   "execution_count": 1,
   "id": "417267ce",
   "metadata": {},
   "outputs": [
    {
     "name": "stdout",
     "output_type": "stream",
     "text": [
      "[('English', 88), ('Science', 90), ('Maths', 97), ('Social sciences', 82)]\n",
      "[('Social sciences', 82), ('English', 88), ('Science', 90), ('Maths', 97)]\n"
     ]
    }
   ],
   "source": [
    "Original = [('English', 88), ('Science', 90), ('Maths', 97), ('Social sciences', 82)]\n",
    "print(Original)\n",
    "sorted_sub = sorted(Original,key = lambda x : x[1])\n",
    "print(sorted_sub)"
   ]
  },
  {
   "cell_type": "markdown",
   "id": "35609bb1",
   "metadata": {},
   "source": [
    "3.Write a Python program to sort a list of dictionaries using Lambda."
   ]
  },
  {
   "cell_type": "code",
   "execution_count": 6,
   "id": "c4124ba0",
   "metadata": {},
   "outputs": [
    {
     "name": "stdout",
     "output_type": "stream",
     "text": [
      "[{'make': 'Nokia', 'model': 216, 'color': 'Black'}, {'make': 'Mi Max', 'model': '2', 'color': 'Gold'}, {'make': 'Samsung', 'model': 7, 'color': 'Blue'}]\n",
      "[{'make': 'Nokia', 'model': 216, 'color': 'Black'}, {'make': 'Samsung', 'model': 7, 'color': 'Blue'}, {'make': 'Mi Max', 'model': '2', 'color': 'Gold'}]\n"
     ]
    }
   ],
   "source": [
    "mobileBrand = [{'make': 'Nokia', 'model': 216, 'color': 'Black'}, {'make': 'Mi Max', 'model': '2', 'color': 'Gold'}, {'make': 'Samsung', 'model': 7, 'color': 'Blue'}]\n",
    "print(mobileBrand)\n",
    "sorted_brand = sorted(mobileBrand,key = lambda x : x['color'])\n",
    "print(sorted_brand)"
   ]
  },
  {
   "cell_type": "markdown",
   "id": "9620bd98",
   "metadata": {},
   "source": [
    "4. Write a Python program to filter a list of integers using Lambda.\n",
    "Original list of integers:\n",
    "[1, 2, 3, 4, 5, 6, 7, 8, 9, 10]\n",
    "Even numbers from the said list:\n",
    "[2, 4, 6, 8, 10]\n",
    "Odd numbers from the said list:\n",
    "[1, 3, 5, 7, 9]"
   ]
  },
  {
   "cell_type": "code",
   "execution_count": 10,
   "id": "220c197e",
   "metadata": {},
   "outputs": [
    {
     "name": "stdout",
     "output_type": "stream",
     "text": [
      "[1, 2, 3, 4, 5, 6, 7, 8, 9, 10]\n",
      "[2, 4, 6, 8, 10]\n"
     ]
    }
   ],
   "source": [
    "original_list = [1, 2, 3, 4, 5, 6, 7, 8, 9, 10]\n",
    "print(original_list)\n",
    "filterforeven = list(filter(lambda x : x%2==0,original_list))\n",
    "print(filterforeven)"
   ]
  },
  {
   "cell_type": "markdown",
   "id": "a66d42c2",
   "metadata": {},
   "source": [
    "5.Write a Python program to square and cube every number in a given list of integers using Lambda.\n",
    "Original list of integers:\n",
    "[1, 2, 3, 4, 5, 6, 7, 8, 9, 10]"
   ]
  },
  {
   "cell_type": "code",
   "execution_count": 11,
   "id": "54cb7855",
   "metadata": {},
   "outputs": [
    {
     "name": "stdout",
     "output_type": "stream",
     "text": [
      "My original list is [1, 2, 3, 4, 5, 6, 7, 8, 9, 10]\n",
      "my cube of original list are [1, 8, 27, 64, 125, 216, 343, 512, 729, 1000]\n"
     ]
    }
   ],
   "source": [
    "listttt =  [1, 2, 3, 4, 5, 6, 7, 8, 9, 10]\n",
    "print(\"My original list is\" , listttt)\n",
    "cubee = list(map(lambda x : x**3,listttt))\n",
    "print(\"my cube of original list are\",cubee)"
   ]
  },
  {
   "cell_type": "markdown",
   "id": "a98505dc",
   "metadata": {},
   "source": [
    "6.Write a Python program to find whether a given string starts with a given character using Lambda."
   ]
  },
  {
   "cell_type": "code",
   "execution_count": 13,
   "id": "6e59f510",
   "metadata": {},
   "outputs": [
    {
     "name": "stdout",
     "output_type": "stream",
     "text": [
      "True\n"
     ]
    }
   ],
   "source": [
    "starts_with = lambda x : True if x.startswith(\"R\") else False\n",
    "print(starts_with(\"Rehan\"))"
   ]
  },
  {
   "cell_type": "code",
   "execution_count": 14,
   "id": "5a3703de",
   "metadata": {},
   "outputs": [
    {
     "name": "stdout",
     "output_type": "stream",
     "text": [
      "False\n"
     ]
    }
   ],
   "source": [
    "starts_with = lambda x : True if x.startswith(\"P\") else False\n",
    "print(starts_with(\"Rehan\"))"
   ]
  },
  {
   "cell_type": "markdown",
   "id": "05215501",
   "metadata": {},
   "source": [
    "7. Write a Python program to check whether a given string is a number or not using Lambda."
   ]
  },
  {
   "cell_type": "code",
   "execution_count": 18,
   "id": "2354de7a",
   "metadata": {},
   "outputs": [
    {
     "data": {
      "text/plain": [
       "True"
      ]
     },
     "execution_count": 18,
     "metadata": {},
     "output_type": "execute_result"
    }
   ],
   "source": [
    "strisnum = lambda x : x.isnumeric()\n",
    "strisnum(\"12345\")\n"
   ]
  },
  {
   "cell_type": "code",
   "execution_count": 19,
   "id": "bc005faa",
   "metadata": {},
   "outputs": [
    {
     "data": {
      "text/plain": [
       "False"
      ]
     },
     "execution_count": 19,
     "metadata": {},
     "output_type": "execute_result"
    }
   ],
   "source": [
    "strisnum(\"rehanalvi\")"
   ]
  },
  {
   "cell_type": "markdown",
   "id": "fb7b93c5",
   "metadata": {},
   "source": [
    "8.Write a Python program to rearrange positive and negative numbers in a given array using Lambda."
   ]
  },
  {
   "cell_type": "code",
   "execution_count": 22,
   "id": "9454f409",
   "metadata": {},
   "outputs": [
    {
     "name": "stdout",
     "output_type": "stream",
     "text": [
      "[2, 4, 6, 8, 10]\n"
     ]
    }
   ],
   "source": [
    "numbers = [-1, 2, -3, 4, -5, 6, -7, 8, -9, 10]\n",
    "positiven = list(filter(lambda x : x > 0 , numbers))\n",
    "print(positiven)"
   ]
  },
  {
   "cell_type": "code",
   "execution_count": 24,
   "id": "026ce299",
   "metadata": {},
   "outputs": [
    {
     "name": "stdout",
     "output_type": "stream",
     "text": [
      "[-1, -3, -5, -7, -9]\n"
     ]
    }
   ],
   "source": [
    "negativen = list(filter(lambda x : x < 0 , numbers))\n",
    "print(negativen)"
   ]
  },
  {
   "cell_type": "code",
   "execution_count": 27,
   "id": "9c1d4d1e",
   "metadata": {},
   "outputs": [
    {
     "data": {
      "text/plain": [
       "[-1, -3, -5, -7, -9, 2, 4, 6, 8, 10]"
      ]
     },
     "execution_count": 27,
     "metadata": {},
     "output_type": "execute_result"
    }
   ],
   "source": [
    "rearrange = negativen + positiven \n",
    "rearrange"
   ]
  },
  {
   "cell_type": "markdown",
   "id": "1e55296d",
   "metadata": {},
   "source": [
    "9.Write a Python program to find the intersection of two given arrays using Lambda."
   ]
  },
  {
   "cell_type": "code",
   "execution_count": 32,
   "id": "bfe8820b",
   "metadata": {},
   "outputs": [
    {
     "name": "stdout",
     "output_type": "stream",
     "text": [
      "Intersection of two array [3, 4, 5]\n"
     ]
    }
   ],
   "source": [
    "array1 = [1, 2, 3, 4, 5]\n",
    "array2 = [3, 4, 5, 6, 7]\n",
    "intersection = list(filter(lambda x : x in array1,array2))\n",
    "print(\"Intersection of two array\" , intersection)"
   ]
  },
  {
   "cell_type": "markdown",
   "id": "5cfddb8d",
   "metadata": {},
   "source": [
    "10.Write a  Python program to add two given lists using map and lambda.\n",
    "Original list:\n",
    "[1, 2, 3]\n",
    "[4, 5, 6]"
   ]
  },
  {
   "cell_type": "code",
   "execution_count": 36,
   "id": "f6ff3736",
   "metadata": {},
   "outputs": [
    {
     "name": "stdout",
     "output_type": "stream",
     "text": [
      "[5, 7, 9]\n"
     ]
    }
   ],
   "source": [
    "lst1 = [1,2,3]\n",
    "lst2 = [4,5,6]\n",
    "addition_of_list = list(map(lambda x,y : x+y,lst1,lst2))\n",
    "print(addition_of_list)"
   ]
  },
  {
   "cell_type": "markdown",
   "id": "e59532cf",
   "metadata": {},
   "source": [
    "11. Write a Python program that uses the filter function to extract all uppercase letters from a list of mixed-case strings."
   ]
  },
  {
   "cell_type": "code",
   "execution_count": 2,
   "id": "abdc8e01",
   "metadata": {},
   "outputs": [
    {
     "name": "stdout",
     "output_type": "stream",
     "text": [
      "['ALVI']\n"
     ]
    }
   ],
   "source": [
    "mixed_caseStr = [\"rehan\",\"ALVI\",\"RehanindiAN\"]\n",
    "uppr_case = list(filter(lambda x : x.isupper(),mixed_caseStr))\n",
    "print(uppr_case)"
   ]
  },
  {
   "cell_type": "markdown",
   "id": "1e576411-cbd5-4850-817e-13eadf29e84d",
   "metadata": {},
   "source": [
    "12.Write a Python function that filters out all elements less than or equal than a specified value from a list of numbers using the filter function"
   ]
  },
  {
   "cell_type": "code",
   "execution_count": 7,
   "id": "4d878036-8f03-4908-98be-db70d025294d",
   "metadata": {},
   "outputs": [],
   "source": [
    "def filter_less_than(number,threshold):\n",
    "    return list(filter(lambda x : x<= threshold,number))"
   ]
  },
  {
   "cell_type": "code",
   "execution_count": 8,
   "id": "5808f3d6-980f-44e9-90c9-043b69173933",
   "metadata": {},
   "outputs": [
    {
     "data": {
      "text/plain": [
       "[1, 2, 3, 4, 5]"
      ]
     },
     "execution_count": 8,
     "metadata": {},
     "output_type": "execute_result"
    }
   ],
   "source": [
    "filter_less_than( [1, 2, 3, 4, 5, 6, 7, 8, 9, 10],5)"
   ]
  },
  {
   "cell_type": "markdown",
   "id": "98544f27-1887-47e2-a9e9-19c0b74c8489",
   "metadata": {},
   "source": [
    "13.Write a Python function that filters out all empty strings from a list of strings using the filter function."
   ]
  },
  {
   "cell_type": "code",
   "execution_count": 9,
   "id": "0fee9aaa-e213-466c-8321-f6169010dbff",
   "metadata": {},
   "outputs": [],
   "source": [
    "def filter_empty_list(strings):\n",
    "    return list(filter(lambda x : x != '',strings))"
   ]
  },
  {
   "cell_type": "code",
   "execution_count": 10,
   "id": "03118588-0357-4eb6-b572-91544e68fe77",
   "metadata": {},
   "outputs": [
    {
     "data": {
      "text/plain": [
       "['hello', 'world', 'python', 'programming']"
      ]
     },
     "execution_count": 10,
     "metadata": {},
     "output_type": "execute_result"
    }
   ],
   "source": [
    "filter_empty_list([\"hello\", \"\", \"world\", \"\", \"python\", \"programming\", \"\"])"
   ]
  },
  {
   "cell_type": "markdown",
   "id": "1bcaf82a-55a9-4ab2-bc7c-1d525e7e01f3",
   "metadata": {},
   "source": [
    "14.Write a Python program that creates a list of dictionaries containing student information (name, age, grade) and uses the filter function to extract students with a grade greater than or equal to 95."
   ]
  },
  {
   "cell_type": "code",
   "execution_count": 13,
   "id": "b5c061b8-9dc0-4cfe-ad92-5486951d166e",
   "metadata": {},
   "outputs": [],
   "source": [
    "def studentInfo(students):\n",
    "    return list(filter(lambda x : x['grade']>95,students))\n",
    "    "
   ]
  },
  {
   "cell_type": "code",
   "execution_count": 14,
   "id": "3e9ed8ce-bd03-47c0-8fb3-821fd310e9fd",
   "metadata": {},
   "outputs": [
    {
     "data": {
      "text/plain": [
       "[{'name': 'Bob', 'age': 17, 'grade': 98},\n",
       " {'name': 'Oscar', 'age': 18, 'grade': 100}]"
      ]
     },
     "execution_count": 14,
     "metadata": {},
     "output_type": "execute_result"
    }
   ],
   "source": [
    "studentInfo([\n",
    "    {'name': 'Alice', 'age': 18, 'grade': 90},\n",
    "    {'name': 'Bob', 'age': 17, 'grade': 98},\n",
    "    {'name': 'Eve', 'age': 18, 'grade': 92},\n",
    "    {'name': 'John', 'age': 17, 'grade': 95},\n",
    "    {'name': 'Oscar', 'age': 18, 'grade': 100}\n",
    "])"
   ]
  },
  {
   "cell_type": "markdown",
   "id": "3a1572ef-0de6-4643-a195-73bcb744e6df",
   "metadata": {},
   "source": [
    "15.Write a Python program that creates a list of words and use the filter function to extract words that contain more than five letters."
   ]
  },
  {
   "cell_type": "code",
   "execution_count": 17,
   "id": "a75a5fac-2907-4718-84e7-dd543b833803",
   "metadata": {},
   "outputs": [],
   "source": [
    "def extrctwordslessthan5(words):\n",
    "    return list(filter(lambda w : len(w)>5,words))"
   ]
  },
  {
   "cell_type": "code",
   "execution_count": 20,
   "id": "e666d3ea-f0f4-4b69-bf99-906695cd7758",
   "metadata": {},
   "outputs": [
    {
     "data": {
      "text/plain": [
       "['orange', 'grapefruit', 'strawberry', 'blueberry']"
      ]
     },
     "execution_count": 20,
     "metadata": {},
     "output_type": "execute_result"
    }
   ],
   "source": [
    "extrctwordslessthan5([\"al\", \"banaa\", \"orange\", \"grapefruit\", \"strawberry\", \"blueberry\"])"
   ]
  },
  {
   "cell_type": "code",
   "execution_count": null,
   "id": "80878643-3cee-4e69-88f2-95a2ac2af422",
   "metadata": {},
   "outputs": [],
   "source": []
  }
 ],
 "metadata": {
  "kernelspec": {
   "display_name": "Python 3 (ipykernel)",
   "language": "python",
   "name": "python3"
  },
  "language_info": {
   "codemirror_mode": {
    "name": "ipython",
    "version": 3
   },
   "file_extension": ".py",
   "mimetype": "text/x-python",
   "name": "python",
   "nbconvert_exporter": "python",
   "pygments_lexer": "ipython3",
   "version": "3.11.8"
  }
 },
 "nbformat": 4,
 "nbformat_minor": 5
}
